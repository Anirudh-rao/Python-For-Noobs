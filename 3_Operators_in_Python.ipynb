{
  "nbformat": 4,
  "nbformat_minor": 0,
  "metadata": {
    "colab": {
      "provenance": [],
      "collapsed_sections": [
        "lt2rLqiD3f0X",
        "4rc7bJfY4y-I",
        "qIZS8fQV7Kxu"
      ],
      "toc_visible": true,
      "authorship_tag": "ABX9TyNubGoLauTNAejNQPOrd71G",
      "include_colab_link": true
    },
    "kernelspec": {
      "name": "python3",
      "display_name": "Python 3"
    },
    "language_info": {
      "name": "python"
    }
  },
  "cells": [
    {
      "cell_type": "markdown",
      "metadata": {
        "id": "view-in-github",
        "colab_type": "text"
      },
      "source": [
        "<a href=\"https://colab.research.google.com/github/Anirudh-rao/Python-For-Noobs/blob/main/3_Operators_in_Python.ipynb\" target=\"_parent\"><img src=\"https://colab.research.google.com/assets/colab-badge.svg\" alt=\"Open In Colab\"/></a>"
      ]
    },
    {
      "cell_type": "markdown",
      "source": [
        "# Operators in Python:\n",
        "\n",
        "In `mathematics` and `computer programming`, an operator is a character that represents a specific mathematical or logical action or process. For instance, \"x\" is an arithmetic operator that indicates multiplication, while \"&&\" is a logical operator representing the logical AND function in programming.\n",
        "\n",
        "\n",
        "## Types of Operators in Python:\n",
        "\n",
        "\n"
      ],
      "metadata": {
        "id": "75XnxMg-2jns"
      }
    },
    {
      "cell_type": "markdown",
      "source": [
        "### 1.Arithmetic operators :\n",
        "Arithmetic operators are used with numeric values to perform common mathematical operations\n",
        "\n",
        "**Some Of Operations are**:"
      ],
      "metadata": {
        "id": "lt2rLqiD3f0X"
      }
    },
    {
      "cell_type": "code",
      "source": [
        "# Addition\n",
        "x = 5\n",
        "y = 3\n",
        "\n",
        "print(x + y)"
      ],
      "metadata": {
        "colab": {
          "base_uri": "https://localhost:8080/"
        },
        "id": "OUkiYwEl3ofU",
        "outputId": "b02c57ce-c31b-4b0e-965e-1e94022c8b78"
      },
      "execution_count": 47,
      "outputs": [
        {
          "output_type": "stream",
          "name": "stdout",
          "text": [
            "8\n"
          ]
        }
      ]
    },
    {
      "cell_type": "code",
      "source": [
        "#Subtraction\n",
        "x = 5\n",
        "y = 3\n",
        "\n",
        "print(x - y)"
      ],
      "metadata": {
        "colab": {
          "base_uri": "https://localhost:8080/"
        },
        "id": "SRYO--0P3yH2",
        "outputId": "85e3686c-faa2-4975-d5a6-29fb2d79a79c"
      },
      "execution_count": 48,
      "outputs": [
        {
          "output_type": "stream",
          "name": "stdout",
          "text": [
            "2\n"
          ]
        }
      ]
    },
    {
      "cell_type": "code",
      "source": [
        "#Multiplication\n",
        "x = 5\n",
        "y = 3\n",
        "\n",
        "print(x * y)"
      ],
      "metadata": {
        "colab": {
          "base_uri": "https://localhost:8080/"
        },
        "id": "uXdCZn1R33xi",
        "outputId": "7fa143e2-f6d1-44e5-fb50-0a7bec48542a"
      },
      "execution_count": 49,
      "outputs": [
        {
          "output_type": "stream",
          "name": "stdout",
          "text": [
            "15\n"
          ]
        }
      ]
    },
    {
      "cell_type": "code",
      "source": [
        "#Division\n",
        "x = 12\n",
        "y = 3\n",
        "\n",
        "print(x / y)"
      ],
      "metadata": {
        "colab": {
          "base_uri": "https://localhost:8080/"
        },
        "id": "YLzb8mx4362_",
        "outputId": "a953d5f7-2032-4d69-fe48-117bef093c8f"
      },
      "execution_count": 50,
      "outputs": [
        {
          "output_type": "stream",
          "name": "stdout",
          "text": [
            "4.0\n"
          ]
        }
      ]
    },
    {
      "cell_type": "code",
      "source": [
        "#Modulo Division - returns Remainder\n",
        "x = 5\n",
        "y = 2\n",
        "\n",
        "print(x % y)"
      ],
      "metadata": {
        "colab": {
          "base_uri": "https://localhost:8080/"
        },
        "id": "FCqQ-scz4f4r",
        "outputId": "b6b89796-6970-4635-cb4c-7dd6909ad826"
      },
      "execution_count": 51,
      "outputs": [
        {
          "output_type": "stream",
          "name": "stdout",
          "text": [
            "1\n"
          ]
        }
      ]
    },
    {
      "cell_type": "code",
      "source": [
        "#Expnential\n",
        "x = 2\n",
        "y = 5\n",
        "\n",
        "print(x ** y) #same as 2*2*2*2*2"
      ],
      "metadata": {
        "colab": {
          "base_uri": "https://localhost:8080/"
        },
        "id": "k-tJlZZ14ja7",
        "outputId": "9b93aff6-f6de-43e9-cb26-f42e174c4382"
      },
      "execution_count": 52,
      "outputs": [
        {
          "output_type": "stream",
          "name": "stdout",
          "text": [
            "32\n"
          ]
        }
      ]
    },
    {
      "cell_type": "code",
      "source": [
        "#Floor Division\n",
        "x = 15\n",
        "y = 2\n",
        "\n",
        "print(x // y)\n",
        "\n",
        "#the floor division // rounds the result down to the nearest whole number"
      ],
      "metadata": {
        "colab": {
          "base_uri": "https://localhost:8080/"
        },
        "id": "Eg-rpZdf4rh8",
        "outputId": "5b686be3-c498-4496-98e6-4a859a19e4f8"
      },
      "execution_count": 53,
      "outputs": [
        {
          "output_type": "stream",
          "name": "stdout",
          "text": [
            "7\n"
          ]
        }
      ]
    },
    {
      "cell_type": "markdown",
      "source": [
        "### 2.Assignment Operators :\n",
        "Assignment operators are used to assign values to variables:\n",
        "\n",
        "**Some of them are:**"
      ],
      "metadata": {
        "id": "4rc7bJfY4y-I"
      }
    },
    {
      "cell_type": "code",
      "source": [
        "# = operator\n",
        "x = 5\n",
        "\n",
        "print(x)"
      ],
      "metadata": {
        "colab": {
          "base_uri": "https://localhost:8080/"
        },
        "id": "MiHROrTL49uW",
        "outputId": "f42e18c9-5b9b-4836-bdf9-4d976a4c8e54"
      },
      "execution_count": 34,
      "outputs": [
        {
          "output_type": "stream",
          "name": "stdout",
          "text": [
            "5\n"
          ]
        }
      ]
    },
    {
      "cell_type": "code",
      "source": [
        "x = 5\n",
        "\n",
        "x += 3\n",
        "\n",
        "print(x)\n"
      ],
      "metadata": {
        "colab": {
          "base_uri": "https://localhost:8080/"
        },
        "id": "OVDmXx_86SAF",
        "outputId": "b2b81ff5-7316-4298-f562-70e06d2f2c7a"
      },
      "execution_count": 35,
      "outputs": [
        {
          "output_type": "stream",
          "name": "stdout",
          "text": [
            "8\n"
          ]
        }
      ]
    },
    {
      "cell_type": "code",
      "source": [
        "x = 5\n",
        "\n",
        "x -= 3\n",
        "\n",
        "print(x)"
      ],
      "metadata": {
        "colab": {
          "base_uri": "https://localhost:8080/"
        },
        "id": "A_SpVnfO6Vir",
        "outputId": "9b5220c9-d1d8-4cb4-f284-26907ff7bee8"
      },
      "execution_count": 36,
      "outputs": [
        {
          "output_type": "stream",
          "name": "stdout",
          "text": [
            "2\n"
          ]
        }
      ]
    },
    {
      "cell_type": "code",
      "source": [
        "x = 5\n",
        "\n",
        "x *= 3\n",
        "\n",
        "print(x)\n"
      ],
      "metadata": {
        "colab": {
          "base_uri": "https://localhost:8080/"
        },
        "id": "70LB9H486XlM",
        "outputId": "90a70b6d-00c1-4b6d-c22b-341a8940fd81"
      },
      "execution_count": 37,
      "outputs": [
        {
          "output_type": "stream",
          "name": "stdout",
          "text": [
            "15\n"
          ]
        }
      ]
    },
    {
      "cell_type": "code",
      "source": [
        "x = 5\n",
        "\n",
        "x /= 3\n",
        "\n",
        "print(x)"
      ],
      "metadata": {
        "colab": {
          "base_uri": "https://localhost:8080/"
        },
        "id": "REGSRsd_6bxY",
        "outputId": "1673c3ce-0f4d-4794-8991-792e821852d1"
      },
      "execution_count": 38,
      "outputs": [
        {
          "output_type": "stream",
          "name": "stdout",
          "text": [
            "1.6666666666666667\n"
          ]
        }
      ]
    },
    {
      "cell_type": "code",
      "source": [
        "x = 5\n",
        "\n",
        "x%=3\n",
        "\n",
        "print(x)"
      ],
      "metadata": {
        "colab": {
          "base_uri": "https://localhost:8080/"
        },
        "id": "AD5NYtEa6dz9",
        "outputId": "b3b1c17d-5874-40f8-a3a4-ad0ced95c502"
      },
      "execution_count": 39,
      "outputs": [
        {
          "output_type": "stream",
          "name": "stdout",
          "text": [
            "2\n"
          ]
        }
      ]
    },
    {
      "cell_type": "code",
      "source": [
        "x = 5\n",
        "\n",
        "x//=3\n",
        "\n",
        "print(x)"
      ],
      "metadata": {
        "colab": {
          "base_uri": "https://localhost:8080/"
        },
        "id": "7lo9tKcc6fo8",
        "outputId": "29090077-e564-49e1-8f62-f54dc8fa377b"
      },
      "execution_count": 40,
      "outputs": [
        {
          "output_type": "stream",
          "name": "stdout",
          "text": [
            "1\n"
          ]
        }
      ]
    },
    {
      "cell_type": "code",
      "source": [
        "x = 5\n",
        "\n",
        "x **= 3\n",
        "\n",
        "print(x)"
      ],
      "metadata": {
        "colab": {
          "base_uri": "https://localhost:8080/"
        },
        "id": "7TpDJ8Tn69ZC",
        "outputId": "6462e8b8-3505-487d-9803-d8fac85e0df1"
      },
      "execution_count": 41,
      "outputs": [
        {
          "output_type": "stream",
          "name": "stdout",
          "text": [
            "125\n"
          ]
        }
      ]
    },
    {
      "cell_type": "code",
      "source": [
        "x = 5\n",
        "\n",
        "x &= 3\n",
        "\n",
        "print(x)"
      ],
      "metadata": {
        "colab": {
          "base_uri": "https://localhost:8080/"
        },
        "id": "1cwhJcqe6_HT",
        "outputId": "aba58478-b518-4cde-ed57-ec9716fde43d"
      },
      "execution_count": 42,
      "outputs": [
        {
          "output_type": "stream",
          "name": "stdout",
          "text": [
            "1\n"
          ]
        }
      ]
    },
    {
      "cell_type": "code",
      "source": [
        "x = 5\n",
        "\n",
        "x |= 3\n",
        "\n",
        "print(x)\n"
      ],
      "metadata": {
        "colab": {
          "base_uri": "https://localhost:8080/"
        },
        "id": "SG0X7agK7A9p",
        "outputId": "6aa88a67-2632-4544-e6be-4738df7aebe4"
      },
      "execution_count": 43,
      "outputs": [
        {
          "output_type": "stream",
          "name": "stdout",
          "text": [
            "7\n"
          ]
        }
      ]
    },
    {
      "cell_type": "code",
      "source": [
        "x = 5\n",
        "\n",
        "x ^= 3\n",
        "\n",
        "print(x)"
      ],
      "metadata": {
        "colab": {
          "base_uri": "https://localhost:8080/"
        },
        "id": "Iwxzvzxl7C7H",
        "outputId": "03304ce8-fe26-402a-f6a2-d41913d5a826"
      },
      "execution_count": 44,
      "outputs": [
        {
          "output_type": "stream",
          "name": "stdout",
          "text": [
            "6\n"
          ]
        }
      ]
    },
    {
      "cell_type": "code",
      "source": [
        "x = 5\n",
        "\n",
        "x >>= 3\n",
        "\n",
        "print(x)"
      ],
      "metadata": {
        "colab": {
          "base_uri": "https://localhost:8080/"
        },
        "id": "gq6Iumqi7ETV",
        "outputId": "15ce081a-6b4e-4302-eefd-d4655bbf4148"
      },
      "execution_count": 45,
      "outputs": [
        {
          "output_type": "stream",
          "name": "stdout",
          "text": [
            "0\n"
          ]
        }
      ]
    },
    {
      "cell_type": "code",
      "source": [
        "x = 5\n",
        "\n",
        "x <<= 3\n",
        "\n",
        "print(x)"
      ],
      "metadata": {
        "colab": {
          "base_uri": "https://localhost:8080/"
        },
        "id": "_ir54vfO7H6N",
        "outputId": "ec0dc4ab-df49-4ba3-c2fa-e0a2bb754f21"
      },
      "execution_count": 46,
      "outputs": [
        {
          "output_type": "stream",
          "name": "stdout",
          "text": [
            "40\n"
          ]
        }
      ]
    },
    {
      "cell_type": "code",
      "source": [],
      "metadata": {
        "id": "pbNHvfTa7Jjf"
      },
      "execution_count": 46,
      "outputs": []
    },
    {
      "cell_type": "markdown",
      "source": [
        "### 3.Comparison Operators\n",
        "\n",
        "Comparison operators are used to compare two values:\n",
        "\n",
        "**Some of them are:**"
      ],
      "metadata": {
        "id": "qIZS8fQV7Kxu"
      }
    },
    {
      "cell_type": "code",
      "source": [
        "x = 5\n",
        "y = 3\n",
        "\n",
        "print(x == y)\n",
        "\n",
        "# returns False because 5 is not equal to 3"
      ],
      "metadata": {
        "colab": {
          "base_uri": "https://localhost:8080/"
        },
        "id": "mMxrmy1U7XSg",
        "outputId": "a390796c-744a-4e8d-bdfc-698eb3548121"
      },
      "execution_count": 28,
      "outputs": [
        {
          "output_type": "stream",
          "name": "stdout",
          "text": [
            "False\n"
          ]
        }
      ]
    },
    {
      "cell_type": "code",
      "source": [
        "x = 5\n",
        "y = 3\n",
        "\n",
        "print(x != y)\n",
        "\n",
        "# returns True because 5 is not equal to 3"
      ],
      "metadata": {
        "colab": {
          "base_uri": "https://localhost:8080/"
        },
        "id": "rKZRrQpl9Enq",
        "outputId": "04c6fd75-6a1e-4a72-930f-ca5567113b6a"
      },
      "execution_count": 29,
      "outputs": [
        {
          "output_type": "stream",
          "name": "stdout",
          "text": [
            "True\n"
          ]
        }
      ]
    },
    {
      "cell_type": "code",
      "source": [
        "x = 5\n",
        "y = 3\n",
        "\n",
        "print(x > y)\n",
        "\n",
        "# returns True because 5 is greater than 3"
      ],
      "metadata": {
        "colab": {
          "base_uri": "https://localhost:8080/"
        },
        "id": "jYe6j5r09Gjp",
        "outputId": "82525086-bca7-47bb-f629-b670614fc522"
      },
      "execution_count": 30,
      "outputs": [
        {
          "output_type": "stream",
          "name": "stdout",
          "text": [
            "True\n"
          ]
        }
      ]
    },
    {
      "cell_type": "code",
      "source": [
        "x = 5\n",
        "y = 3\n",
        "\n",
        "print(x < y)\n",
        "\n",
        "# returns False because 5 is not less than 3"
      ],
      "metadata": {
        "colab": {
          "base_uri": "https://localhost:8080/"
        },
        "id": "irWFPhr29IAf",
        "outputId": "f50d7e1a-459a-4804-e57c-138e9d95487d"
      },
      "execution_count": 31,
      "outputs": [
        {
          "output_type": "stream",
          "name": "stdout",
          "text": [
            "False\n"
          ]
        }
      ]
    },
    {
      "cell_type": "code",
      "source": [
        "x = 5\n",
        "y = 3\n",
        "\n",
        "print(x >= y)\n",
        "\n",
        "# returns True because five is greater, or equal, to 3"
      ],
      "metadata": {
        "colab": {
          "base_uri": "https://localhost:8080/"
        },
        "id": "K8iTsQEL9Jgu",
        "outputId": "fb901623-8bc8-4c49-c8cd-3da820e0ebc5"
      },
      "execution_count": 32,
      "outputs": [
        {
          "output_type": "stream",
          "name": "stdout",
          "text": [
            "True\n"
          ]
        }
      ]
    },
    {
      "cell_type": "code",
      "source": [
        "x = 5\n",
        "y = 3\n",
        "\n",
        "print(x <= y)\n",
        "\n",
        "# returns False because 5 is neither less than or equal to 3"
      ],
      "metadata": {
        "colab": {
          "base_uri": "https://localhost:8080/"
        },
        "id": "yqOkIm9K9LQS",
        "outputId": "a9f755f7-b5dc-45d4-97f3-53972c1fb745"
      },
      "execution_count": 33,
      "outputs": [
        {
          "output_type": "stream",
          "name": "stdout",
          "text": [
            "False\n"
          ]
        }
      ]
    },
    {
      "cell_type": "markdown",
      "source": [
        "#### 4.Logical operator\n",
        "Logical operators are used to combine conditional statements: \n",
        "**Some of them are:**"
      ],
      "metadata": {
        "id": "44ClvKCJU7DJ"
      }
    },
    {
      "cell_type": "code",
      "source": [
        "x = 5\n",
        "\n",
        "print(x > 3 and x < 10)\n",
        "\n",
        "# returns True because 5 is greater than 3 AND 5 is less than 10"
      ],
      "metadata": {
        "colab": {
          "base_uri": "https://localhost:8080/"
        },
        "id": "YT8wtm07U8As",
        "outputId": "d4d57a19-f657-4994-f6ad-51c6d9c809cc"
      },
      "execution_count": 54,
      "outputs": [
        {
          "output_type": "stream",
          "name": "stdout",
          "text": [
            "True\n"
          ]
        }
      ]
    },
    {
      "cell_type": "code",
      "source": [
        "x = 5\n",
        "\n",
        "print(x > 3 or x < 4)\n",
        "\n",
        "# returns True because one of the conditions are true (5 is greater than 3, but 5 is not less than 4)"
      ],
      "metadata": {
        "colab": {
          "base_uri": "https://localhost:8080/"
        },
        "id": "DcbQGSuEU-3g",
        "outputId": "3814c87d-36a0-45a5-df54-fa233578b6e5"
      },
      "execution_count": 55,
      "outputs": [
        {
          "output_type": "stream",
          "name": "stdout",
          "text": [
            "True\n"
          ]
        }
      ]
    },
    {
      "cell_type": "code",
      "source": [
        "x = 5\n",
        "\n",
        "print(not(x > 3 and x < 10))\n",
        "\n",
        "# returns False because not is used to reverse the result\n"
      ],
      "metadata": {
        "colab": {
          "base_uri": "https://localhost:8080/"
        },
        "id": "T4-tpN7SVAj_",
        "outputId": "562ce93a-b881-452d-b7a6-64185f6c4f59"
      },
      "execution_count": 56,
      "outputs": [
        {
          "output_type": "stream",
          "name": "stdout",
          "text": [
            "False\n"
          ]
        }
      ]
    },
    {
      "cell_type": "code",
      "source": [],
      "metadata": {
        "id": "ZD0x5aI5VCKo"
      },
      "execution_count": null,
      "outputs": []
    }
  ]
}