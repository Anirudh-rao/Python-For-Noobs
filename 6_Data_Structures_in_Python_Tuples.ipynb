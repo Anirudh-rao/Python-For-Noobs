{
  "nbformat": 4,
  "nbformat_minor": 0,
  "metadata": {
    "colab": {
      "provenance": [],
      "toc_visible": true,
      "authorship_tag": "ABX9TyMMbWcpOsq/xu+Qk1E+W9IC",
      "include_colab_link": true
    },
    "kernelspec": {
      "name": "python3",
      "display_name": "Python 3"
    },
    "language_info": {
      "name": "python"
    }
  },
  "cells": [
    {
      "cell_type": "markdown",
      "metadata": {
        "id": "view-in-github",
        "colab_type": "text"
      },
      "source": [
        "<a href=\"https://colab.research.google.com/github/Anirudh-rao/Python-For-Noobs/blob/main/6_Data_Structures_in_Python_Tuples.ipynb\" target=\"_parent\"><img src=\"https://colab.research.google.com/assets/colab-badge.svg\" alt=\"Open In Colab\"/></a>"
      ]
    },
    {
      "cell_type": "markdown",
      "source": [
        "# Tuples\n",
        "\n",
        "Tuples are used to store multiple items in a single variable.\n",
        "\n",
        "Tuple is one of 4 built-in data types in Python used to store collections of data, the other 3 are List, Set, and Dictionary, all with different qualities and usage.\n",
        "\n",
        "A tuple is a collection which is ordered and unchangeable.\n",
        "\n",
        "Tuples are written with round brackets."
      ],
      "metadata": {
        "id": "LPLWJkSwruum"
      }
    },
    {
      "cell_type": "code",
      "source": [
        "thistuple = (\"apple\", \"banana\", \"cherry\")\n",
        "print(thistuple)"
      ],
      "metadata": {
        "colab": {
          "base_uri": "https://localhost:8080/"
        },
        "id": "TH01V_cIry9z",
        "outputId": "b2add378-7c09-4803-f7a1-f7dad564202a"
      },
      "execution_count": 1,
      "outputs": [
        {
          "output_type": "stream",
          "name": "stdout",
          "text": [
            "('apple', 'banana', 'cherry')\n"
          ]
        }
      ]
    },
    {
      "cell_type": "markdown",
      "source": [
        "# Tuple Items\n",
        "\n",
        "Tuple items are ordered, unchangeable, and allow duplicate values.\n",
        "\n",
        "Tuple items are indexed, the first item has index [0], the second item has index [1] etc.\n",
        "\n",
        "**Ordered**\n",
        "\n",
        "When we say that tuples are ordered, it means that the items have a defined order, and that order will not change.\n",
        "\n",
        "**Unchangeable**\n",
        "\n",
        "Tuples are unchangeable, meaning that we cannot change, add or remove items after the tuple has been created.\n",
        "\n",
        "**Allow Duplicates**\n",
        "\n",
        "Since tuples are indexed, they can have items with the same value:"
      ],
      "metadata": {
        "id": "y3w17oq7r2cQ"
      }
    },
    {
      "cell_type": "code",
      "source": [
        "thistuple = (\"apple\", \"banana\", \"cherry\", \"apple\", \"cherry\")\n",
        "print(thistuple)"
      ],
      "metadata": {
        "colab": {
          "base_uri": "https://localhost:8080/"
        },
        "id": "ZxxX18Fir9Og",
        "outputId": "3a70c391-f327-4963-fbef-1de08b2fab93"
      },
      "execution_count": 2,
      "outputs": [
        {
          "output_type": "stream",
          "name": "stdout",
          "text": [
            "('apple', 'banana', 'cherry', 'apple', 'cherry')\n"
          ]
        }
      ]
    },
    {
      "cell_type": "markdown",
      "source": [
        "**Tuple Length**\n",
        "\n",
        "To determine how many items a tuple has, use the len() function:\n",
        "\n"
      ],
      "metadata": {
        "id": "cU0Yek8qsB-3"
      }
    },
    {
      "cell_type": "code",
      "source": [
        "thistuple = (\"apple\", \"banana\", \"cherry\")\n",
        "print(len(thistuple))"
      ],
      "metadata": {
        "colab": {
          "base_uri": "https://localhost:8080/"
        },
        "id": "HA6pIbaNsEYK",
        "outputId": "9748c3c1-3a0f-4933-9216-bdfd6e9bbeb9"
      },
      "execution_count": 3,
      "outputs": [
        {
          "output_type": "stream",
          "name": "stdout",
          "text": [
            "3\n"
          ]
        }
      ]
    },
    {
      "cell_type": "markdown",
      "source": [
        "# Create Tuple With One Item\n",
        "To create a tuple with only one item, you have to add a comma after the item, otherwise Python will not recognize it as a tuple."
      ],
      "metadata": {
        "id": "ZnjK_-o6wAIC"
      }
    },
    {
      "cell_type": "code",
      "source": [
        "thistuple = (\"apple\",)\n",
        "print(type(thistuple))\n",
        "\n",
        "#NOT a tuple\n",
        "thistuple = (\"apple\")\n",
        "print(type(thistuple))"
      ],
      "metadata": {
        "colab": {
          "base_uri": "https://localhost:8080/"
        },
        "id": "-G2ETogkwCHb",
        "outputId": "c36a8f8e-352b-4e45-8d4c-da3817225510"
      },
      "execution_count": 4,
      "outputs": [
        {
          "output_type": "stream",
          "name": "stdout",
          "text": [
            "<class 'tuple'>\n",
            "<class 'str'>\n"
          ]
        }
      ]
    },
    {
      "cell_type": "markdown",
      "source": [
        "# The tuple() Constructor\n",
        "It is also possible to use the tuple() constructor to make a tuple."
      ],
      "metadata": {
        "id": "fL-SysYbwGw0"
      }
    },
    {
      "cell_type": "code",
      "source": [
        "thistuple = tuple((\"apple\", \"banana\", \"cherry\")) # note the double round-brackets\n",
        "print(thistuple)"
      ],
      "metadata": {
        "colab": {
          "base_uri": "https://localhost:8080/"
        },
        "id": "XdEpRLXQwIM9",
        "outputId": "8d7412ce-2a70-462f-fb97-ad1957ec436b"
      },
      "execution_count": 5,
      "outputs": [
        {
          "output_type": "stream",
          "name": "stdout",
          "text": [
            "('apple', 'banana', 'cherry')\n"
          ]
        }
      ]
    },
    {
      "cell_type": "code",
      "source": [],
      "metadata": {
        "id": "sX06Z7K-wJt2"
      },
      "execution_count": null,
      "outputs": []
    }
  ]
}