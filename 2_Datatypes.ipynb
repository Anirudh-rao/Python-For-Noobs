{
  "nbformat": 4,
  "nbformat_minor": 0,
  "metadata": {
    "colab": {
      "provenance": [],
      "toc_visible": true,
      "authorship_tag": "ABX9TyNBdpjj76wbrE3TPs5pt+mx",
      "include_colab_link": true
    },
    "kernelspec": {
      "name": "python3",
      "display_name": "Python 3"
    },
    "language_info": {
      "name": "python"
    }
  },
  "cells": [
    {
      "cell_type": "markdown",
      "metadata": {
        "id": "view-in-github",
        "colab_type": "text"
      },
      "source": [
        "<a href=\"https://colab.research.google.com/github/Anirudh-rao/Python-For-Noobs/blob/main/2_Datatypes.ipynb\" target=\"_parent\"><img src=\"https://colab.research.google.com/assets/colab-badge.svg\" alt=\"Open In Colab\"/></a>"
      ]
    },
    {
      "cell_type": "markdown",
      "source": [
        "In this Module we will cover some of the Important features in Python , Like data types , type casting , Loopps and conditional Statments.\n",
        "\n",
        "This sounds tough but lets keep it simple and learn as simple as possible."
      ],
      "metadata": {
        "id": "HitFYgJgKlh7"
      }
    },
    {
      "cell_type": "markdown",
      "source": [
        "# Data types:\n",
        "\n",
        "By hearing this word , we can clearly say that \"Data\" means information and \"type\" meaning  \"type of something. Hence we can say that `Data types` are a meduim to store Information.\n",
        "\n",
        "In any Programming Language ,there are certain common data Types \n",
        "\n",
        "1. **Integer or Int** : The basic of all the dataypes , these store only `Numeric` form of data and exclude point value data.\n",
        "2. **Floating point or Float** : This is simmilar to `Integer/int` but this allows us to store data with point or floating point valu.\n",
        "` For Ex: 2.9, 3.99 etc.`\n",
        "3. **String or Str**: This allows us to Store data Like charecters and Special Charrecters .\n",
        "5. **complex**: Complex numbers are written with a \"j\" as the imaginary part\n",
        "4. **Boolean or bool** : Boolean allows us to store data in the form of either `True` Or `False`.\n",
        "\n"
      ],
      "metadata": {
        "id": "VDlZESJZLIdJ"
      }
    },
    {
      "cell_type": "code",
      "source": [
        "i =  20\n",
        "f = 20.9\n",
        "s = 'Hello'\n",
        "b =  True\n",
        "x = 3+5j\n",
        "\n",
        "## Getting Details of The Data Types\n",
        "print(f\"The Integer Value is\", i)\n",
        "print(\"The Data type of Int is \", type(i))\n",
        "\n",
        "print(f\"The Float Value is\", f)\n",
        "print(\"The Data type of Float is \", type(f))\n",
        "\n",
        "print(f\"The String Value is\", s)\n",
        "print(\"The Data type of String is \", type(s))\n",
        "\n",
        "print(f\"The Bool Value is\", b)\n",
        "print(\"The Data type of Bool is \", type(b))\n",
        "\n",
        "\n",
        "print(f\"The Complex Value is\", b)\n",
        "print(\"The Data type of Complex is \", type(x))\n"
      ],
      "metadata": {
        "colab": {
          "base_uri": "https://localhost:8080/"
        },
        "id": "AuJgFEadMrAs",
        "outputId": "11a90d7b-817c-4763-ea73-222b90b0073a"
      },
      "execution_count": 14,
      "outputs": [
        {
          "output_type": "stream",
          "name": "stdout",
          "text": [
            "The Integer Value is 20\n",
            "The Data type of Int is  <class 'int'>\n",
            "The Float Value is 20.9\n",
            "The Data type of Float is  <class 'float'>\n",
            "The String Value is Hello\n",
            "The Data type of String is  <class 'str'>\n",
            "The Bool Value is True\n",
            "The Data type of Bool is  <class 'bool'>\n",
            "The Complex Value is True\n",
            "The Data type of Complex is  <class 'complex'>\n"
          ]
        }
      ]
    },
    {
      "cell_type": "markdown",
      "source": [
        "As We have seen earlier , Python interprets all the data types of a particular variable automatically.\n",
        "\n",
        "\n",
        "We can also `Restric` variables to hold  only `specified Data types only`. Didnt Understand , Lets see it in the below example"
      ],
      "metadata": {
        "id": "o6Omt4eRNg_6"
      }
    },
    {
      "cell_type": "code",
      "source": [
        "x = str(\"Hello World\")\n",
        "\n",
        "print(x)\n",
        "print(\"Type of Str Variable\", type(x))\n"
      ],
      "metadata": {
        "colab": {
          "base_uri": "https://localhost:8080/"
        },
        "id": "t7S3IaMdNz_5",
        "outputId": "9e0dad11-3c2d-4cbf-f071-8277bf7d0921"
      },
      "execution_count": 10,
      "outputs": [
        {
          "output_type": "stream",
          "name": "stdout",
          "text": [
            "Hello World\n",
            "Type of Str Variable <class 'str'>\n"
          ]
        }
      ]
    },
    {
      "cell_type": "markdown",
      "source": [
        "Like this we can specify python to use only the specified vairables\n",
        "\n",
        "There can assign type to almost all the data types:\n",
        "For Ex:\n",
        "\n",
        "```\n",
        "x = int(20)  --int 20\n",
        "x = float(20.5) -- float 20.5\n",
        "x = bool(5)  -- bool\n",
        "\n",
        "\n",
        "\n",
        "```"
      ],
      "metadata": {
        "id": "a3k3EsLoOLdx"
      }
    },
    {
      "cell_type": "code",
      "source": [],
      "metadata": {
        "id": "WnRSyzUlOjb-"
      },
      "execution_count": null,
      "outputs": []
    },
    {
      "cell_type": "markdown",
      "source": [
        "# Type Casting:\n",
        "\n",
        "`Type Casting` means that we are converting  the Data types of the given variable.\n",
        "\n",
        "There may be times when you want to specify a type on to a variable. This can be done with casting. Python is an object-orientated language, and as such it uses classes to define data types, including its primitive types.\n",
        "\n",
        "Casting in python is therefore done using constructor functions:\n",
        "\n",
        "1. int() - constructs an integer number from an integer literal, a float literal (by removing all decimals), or a string literal (providing the string represents a whole number)\n",
        "\n",
        "2. float() - constructs a float number from an integer literal, a float literal or a string literal (providing the string represents a float or an integer)\n",
        "\n",
        "3. str() - constructs a string from a wide variety of data types, including strings, integer literals and float literals"
      ],
      "metadata": {
        "id": "fPQ26j-3Q5oN"
      }
    },
    {
      "cell_type": "code",
      "source": [
        "#Integer Casting\n",
        "x = int(1)   # x will be 1\n",
        "print(x)\n",
        "\n",
        "y = int(2.8) # y will be 2\n",
        "print(y)\n",
        "\n",
        "z = int(\"3\") # z will be 3\n",
        "print(z)"
      ],
      "metadata": {
        "colab": {
          "base_uri": "https://localhost:8080/"
        },
        "id": "ocITO5XGRMCm",
        "outputId": "4fcc190a-468a-42f6-a67e-bfa266832037"
      },
      "execution_count": 16,
      "outputs": [
        {
          "output_type": "stream",
          "name": "stdout",
          "text": [
            "1\n",
            "2\n",
            "3\n"
          ]
        }
      ]
    },
    {
      "cell_type": "code",
      "source": [
        "#Float Casting\n",
        "x = float(1)\n",
        "print(x)     # x will be 1.0\n",
        "\n",
        "y = float(2.8)   # y will be 2.8\n",
        "print(y)\n",
        "\n",
        "z = float(\"3\")   # z will be 3.0\n",
        "print(z)\n",
        "\n",
        "w = float(\"4.2\") # w will be 4.2\n",
        "print(w)"
      ],
      "metadata": {
        "colab": {
          "base_uri": "https://localhost:8080/"
        },
        "id": "dmk-yArxROvh",
        "outputId": "b9b2a310-61ec-4edd-b517-15c3fbd8c153"
      },
      "execution_count": 17,
      "outputs": [
        {
          "output_type": "stream",
          "name": "stdout",
          "text": [
            "1.0\n",
            "2.8\n",
            "3.0\n",
            "4.2\n"
          ]
        }
      ]
    },
    {
      "cell_type": "code",
      "source": [
        "# String Casting\n",
        "x = str(\"s1\") # x will be 's1'\n",
        "print(X)\n",
        "\n",
        "y = str(2)    # y will be '2'\n",
        "print(y)\n",
        "\n",
        "z = str(3.0)  # z will be '3.0'\n",
        "print(z)"
      ],
      "metadata": {
        "colab": {
          "base_uri": "https://localhost:8080/"
        },
        "id": "C6npE1QkRj-o",
        "outputId": "b504088d-956b-442c-b5b4-5f8a7b233db4"
      },
      "execution_count": 19,
      "outputs": [
        {
          "output_type": "stream",
          "name": "stdout",
          "text": [
            "2\n",
            "2\n",
            "3.0\n"
          ]
        }
      ]
    },
    {
      "cell_type": "markdown",
      "source": [
        "Now We have till now completed how to get data , now lets see conditonals"
      ],
      "metadata": {
        "id": "paUahf7xUcst"
      }
    },
    {
      "cell_type": "code",
      "source": [],
      "metadata": {
        "id": "7_zZaHT4Uk2J"
      },
      "execution_count": null,
      "outputs": []
    }
  ]
}