{
  "nbformat": 4,
  "nbformat_minor": 0,
  "metadata": {
    "colab": {
      "provenance": [],
      "authorship_tag": "ABX9TyOfeLl5pZJoXdhirslyu+Bo",
      "include_colab_link": true
    },
    "kernelspec": {
      "name": "python3",
      "display_name": "Python 3"
    },
    "language_info": {
      "name": "python"
    }
  },
  "cells": [
    {
      "cell_type": "markdown",
      "metadata": {
        "id": "view-in-github",
        "colab_type": "text"
      },
      "source": [
        "<a href=\"https://colab.research.google.com/github/Anirudh-rao/Python-For-Noobs/blob/main/4_Conditional_Statments_in_Python.ipynb\" target=\"_parent\"><img src=\"https://colab.research.google.com/assets/colab-badge.svg\" alt=\"Open In Colab\"/></a>"
      ]
    },
    {
      "cell_type": "markdown",
      "source": [
        "# Conditional Statements in Python:\n",
        "\n",
        "Python supports the usual logical conditions from mathematics:\n",
        "\n",
        "Equals: a == b\n",
        "\n",
        "Not Equals: a != b\n",
        "\n",
        "Less than: a < b\n",
        "\n",
        "Less than or equal to: a <= b\n",
        "\n",
        "Greater than: a > b\n",
        "\n",
        "Greater than or equal to: a >= b\n",
        "\n",
        "These conditions can be used in several ways, most commonly in \"if statements\" and loops."
      ],
      "metadata": {
        "id": "OZu4Q9M1UV4T"
      }
    },
    {
      "cell_type": "markdown",
      "source": [
        "# If Statemets:\n",
        "\n"
      ],
      "metadata": {
        "id": "MTkC0VbaU5jH"
      }
    },
    {
      "cell_type": "code",
      "source": [
        "a = 33\n",
        "b = 200\n",
        "if b > a:\n",
        "  print(\"b is greater than a\")\n"
      ],
      "metadata": {
        "colab": {
          "base_uri": "https://localhost:8080/"
        },
        "id": "CszfU3-iU7ii",
        "outputId": "c4fc2e97-e96f-43ae-a0ad-e5b58b14bc8e"
      },
      "execution_count": 2,
      "outputs": [
        {
          "output_type": "stream",
          "name": "stdout",
          "text": [
            "b is greater than a\n"
          ]
        }
      ]
    },
    {
      "cell_type": "markdown",
      "source": [
        "# Elif\n",
        "The elif keyword is pythons way of saying \"if the previous conditions were not true, then try this condition\"."
      ],
      "metadata": {
        "id": "LK1q0d6MVGWe"
      }
    },
    {
      "cell_type": "code",
      "source": [
        "a = 33\n",
        "b = 33\n",
        "if b > a:\n",
        "  print(\"b is greater than a\")\n",
        "elif a == b:\n",
        "  print(\"a and b are equal\")"
      ],
      "metadata": {
        "colab": {
          "base_uri": "https://localhost:8080/"
        },
        "id": "Ala3AWNqVIEZ",
        "outputId": "3e4f40f0-d423-4ff4-e7a8-8986b9db9698"
      },
      "execution_count": 3,
      "outputs": [
        {
          "output_type": "stream",
          "name": "stdout",
          "text": [
            "a and b are equal\n"
          ]
        }
      ]
    },
    {
      "cell_type": "markdown",
      "source": [
        "# Else\n",
        "The else keyword catches anything which isn't caught by the preceding conditions."
      ],
      "metadata": {
        "id": "GHoaLxlnVOBq"
      }
    },
    {
      "cell_type": "code",
      "source": [
        "a = 200\n",
        "b = 33\n",
        "if b > a:\n",
        "  print(\"b is greater than a\")\n",
        "elif a == b:\n",
        "  print(\"a and b are equal\")\n",
        "else:\n",
        "  print(\"a is greater than b\")"
      ],
      "metadata": {
        "colab": {
          "base_uri": "https://localhost:8080/"
        },
        "id": "K8s-TDIXVPkO",
        "outputId": "4c3a1fe0-0d64-4dcc-bc8b-a203aefe0d8f"
      },
      "execution_count": 4,
      "outputs": [
        {
          "output_type": "stream",
          "name": "stdout",
          "text": [
            "a is greater than b\n"
          ]
        }
      ]
    },
    {
      "cell_type": "markdown",
      "source": [
        "# Short Hand If\n",
        "If you have only one statement to execute, you can put it on the same line as the if statement."
      ],
      "metadata": {
        "id": "3fR9LwcdVT8n"
      }
    },
    {
      "cell_type": "code",
      "source": [
        "if a > b: print(\"a is greater than b\")"
      ],
      "metadata": {
        "colab": {
          "base_uri": "https://localhost:8080/"
        },
        "id": "o-ZJ_TFjVU6Y",
        "outputId": "c6eb1dcc-5548-4279-afa5-8e510620be25"
      },
      "execution_count": 5,
      "outputs": [
        {
          "output_type": "stream",
          "name": "stdout",
          "text": [
            "a is greater than b\n"
          ]
        }
      ]
    },
    {
      "cell_type": "markdown",
      "source": [
        "# Short Hand If ... Else\n",
        "If you have only one statement to execute, one for if, and one for else, you can put it all on the same line:"
      ],
      "metadata": {
        "id": "kQiehKHGVXOJ"
      }
    },
    {
      "cell_type": "code",
      "source": [
        "a = 2\n",
        "b = 330\n",
        "print(\"A\") if a > b else print(\"B\")"
      ],
      "metadata": {
        "colab": {
          "base_uri": "https://localhost:8080/"
        },
        "id": "0g18k3oiVYyc",
        "outputId": "b2c283fa-b641-4292-d85d-8ed6f5118245"
      },
      "execution_count": 6,
      "outputs": [
        {
          "output_type": "stream",
          "name": "stdout",
          "text": [
            "B\n"
          ]
        }
      ]
    },
    {
      "cell_type": "markdown",
      "source": [
        "# Nested If\n",
        "You can have if statements inside if statements, this is called nested if statements."
      ],
      "metadata": {
        "id": "_nYBjalbVgz1"
      }
    },
    {
      "cell_type": "code",
      "source": [
        "x = 41\n",
        "\n",
        "if x > 10:\n",
        "  print(\"Above ten,\")\n",
        "  if x > 20:\n",
        "    print(\"and also above 20!\")\n",
        "  else:\n",
        "    print(\"but not above 20.\")"
      ],
      "metadata": {
        "colab": {
          "base_uri": "https://localhost:8080/"
        },
        "id": "BR-nY7aPVhnR",
        "outputId": "61bd8938-700e-4fc5-d174-899b24ca0bc6"
      },
      "execution_count": 7,
      "outputs": [
        {
          "output_type": "stream",
          "name": "stdout",
          "text": [
            "Above ten,\n",
            "and also above 20!\n"
          ]
        }
      ]
    },
    {
      "cell_type": "code",
      "source": [],
      "metadata": {
        "id": "He3yCFLcVjig"
      },
      "execution_count": null,
      "outputs": []
    },
    {
      "cell_type": "markdown",
      "source": [
        "# The while Loop\n",
        "With the while loop we can execute a set of statements as long as a condition is true."
      ],
      "metadata": {
        "id": "GWwWSKBYWHaO"
      }
    },
    {
      "cell_type": "code",
      "source": [
        "i = 1\n",
        "while i < 6:\n",
        "  print(i)\n",
        "  i += 1"
      ],
      "metadata": {
        "colab": {
          "base_uri": "https://localhost:8080/"
        },
        "id": "65G-Au41WIt7",
        "outputId": "f15fcc20-ecc3-4835-d4ca-cfc741847c14"
      },
      "execution_count": 8,
      "outputs": [
        {
          "output_type": "stream",
          "name": "stdout",
          "text": [
            "1\n",
            "2\n",
            "3\n",
            "4\n",
            "5\n"
          ]
        }
      ]
    },
    {
      "cell_type": "code",
      "source": [
        "#Break Statement\n",
        "i = 1\n",
        "while i < 6:\n",
        "  print(i)\n",
        "  if i == 3:\n",
        "    break\n",
        "  i += 1"
      ],
      "metadata": {
        "colab": {
          "base_uri": "https://localhost:8080/"
        },
        "id": "mA2TfiXVWKuO",
        "outputId": "07456f3b-9f45-47aa-fa63-ac9ad8de9d54"
      },
      "execution_count": 10,
      "outputs": [
        {
          "output_type": "stream",
          "name": "stdout",
          "text": [
            "1\n",
            "2\n",
            "3\n"
          ]
        }
      ]
    },
    {
      "cell_type": "code",
      "source": [
        "#Continue Statement\n",
        "i = 0\n",
        "while i < 6:\n",
        "  i += 1\n",
        "  if i == 3:\n",
        "    continue\n",
        "  print(i)"
      ],
      "metadata": {
        "colab": {
          "base_uri": "https://localhost:8080/"
        },
        "id": "mdTnq-QEWNH2",
        "outputId": "a5eacb0c-e677-4fe3-99a2-e3d3c81b5a40"
      },
      "execution_count": 11,
      "outputs": [
        {
          "output_type": "stream",
          "name": "stdout",
          "text": [
            "1\n",
            "2\n",
            "4\n",
            "5\n",
            "6\n"
          ]
        }
      ]
    },
    {
      "cell_type": "markdown",
      "source": [
        "# For Loops\n",
        "A for loop is used for iterating over a sequence (that is either a list, a tuple, a dictionary, a set, or a string).\n",
        "\n",
        "This is less like the for keyword in other programming languages, and works more like an iterator method as found in other object-orientated programming languages.\n",
        "\n",
        "With the for loop we can execute a set of statements, once for each item in a list, tuple, set etc."
      ],
      "metadata": {
        "id": "TbjSBZGNWlx-"
      }
    },
    {
      "cell_type": "code",
      "source": [
        "fruits = [\"apple\", \"banana\", \"cherry\"]\n",
        "for x in fruits:\n",
        "  print(x)"
      ],
      "metadata": {
        "colab": {
          "base_uri": "https://localhost:8080/"
        },
        "id": "yrDXKMU3Wmvv",
        "outputId": "077f46af-9c3c-4eb6-b154-4b30acde6f42"
      },
      "execution_count": 12,
      "outputs": [
        {
          "output_type": "stream",
          "name": "stdout",
          "text": [
            "apple\n",
            "banana\n",
            "cherry\n"
          ]
        }
      ]
    },
    {
      "cell_type": "code",
      "source": [
        "#Looping Through String\n",
        "for x in \"banana\":\n",
        "  print(x)"
      ],
      "metadata": {
        "colab": {
          "base_uri": "https://localhost:8080/"
        },
        "id": "3u8P-FjQWr4r",
        "outputId": "a3a5d168-d3d2-4c68-8b9d-2627ad8892c1"
      },
      "execution_count": 13,
      "outputs": [
        {
          "output_type": "stream",
          "name": "stdout",
          "text": [
            "b\n",
            "a\n",
            "n\n",
            "a\n",
            "n\n",
            "a\n"
          ]
        }
      ]
    },
    {
      "cell_type": "code",
      "source": [
        "#break Statement\n",
        "fruits = [\"apple\", \"banana\", \"cherry\"]\n",
        "for x in fruits:\n",
        "  print(x)\n",
        "  if x == \"banana\":\n",
        "    break"
      ],
      "metadata": {
        "colab": {
          "base_uri": "https://localhost:8080/"
        },
        "id": "_-gkFPWWWxPf",
        "outputId": "afc221d7-bbda-4a53-e586-6d0fe40c8b4a"
      },
      "execution_count": 14,
      "outputs": [
        {
          "output_type": "stream",
          "name": "stdout",
          "text": [
            "apple\n",
            "banana\n"
          ]
        }
      ]
    },
    {
      "cell_type": "code",
      "source": [
        "#Continue\n",
        "fruits = [\"apple\", \"banana\", \"cherry\"]\n",
        "for x in fruits:\n",
        "  if x == \"banana\":\n",
        "    continue\n",
        "  print(x)\n"
      ],
      "metadata": {
        "colab": {
          "base_uri": "https://localhost:8080/"
        },
        "id": "2ICMVa0tW1Rl",
        "outputId": "b2a736d8-cdf0-4ea5-9279-7f6debac57bd"
      },
      "execution_count": 18,
      "outputs": [
        {
          "output_type": "stream",
          "name": "stdout",
          "text": [
            "apple\n",
            "cherry\n"
          ]
        }
      ]
    },
    {
      "cell_type": "code",
      "source": [
        "#Nested Loops\n",
        "adj = [\"red\", \"big\", \"tasty\"]\n",
        "fruits = [\"apple\", \"banana\", \"cherry\"]\n",
        "\n",
        "for x in adj:\n",
        "  for y in fruits:\n",
        "    print(x, y)"
      ],
      "metadata": {
        "colab": {
          "base_uri": "https://localhost:8080/"
        },
        "id": "DWk9OtUUXHMU",
        "outputId": "68aa74b6-a230-4cdd-c7d0-7ba291e7a372"
      },
      "execution_count": 20,
      "outputs": [
        {
          "output_type": "stream",
          "name": "stdout",
          "text": [
            "red apple\n",
            "red banana\n",
            "red cherry\n",
            "big apple\n",
            "big banana\n",
            "big cherry\n",
            "tasty apple\n",
            "tasty banana\n",
            "tasty cherry\n"
          ]
        }
      ]
    },
    {
      "cell_type": "markdown",
      "source": [
        "# The range() Function\n",
        "To loop through a set of code a specified number of times, we can use the range() function,\n",
        "The range() function returns a sequence of numbers, starting from 0 by default, and increments by 1 (by default), and ends at a specified number."
      ],
      "metadata": {
        "id": "zs9Vu0lwW8XQ"
      }
    },
    {
      "cell_type": "code",
      "source": [
        "for x in range(6):\n",
        "  print(x)"
      ],
      "metadata": {
        "colab": {
          "base_uri": "https://localhost:8080/"
        },
        "id": "BIhKRM43W9My",
        "outputId": "965214bc-3508-45da-97a6-c47593d2ce81"
      },
      "execution_count": 16,
      "outputs": [
        {
          "output_type": "stream",
          "name": "stdout",
          "text": [
            "0\n",
            "1\n",
            "2\n",
            "3\n",
            "4\n",
            "5\n"
          ]
        }
      ]
    },
    {
      "cell_type": "code",
      "source": [
        "for x in range(2, 6):\n",
        "  print(x)"
      ],
      "metadata": {
        "colab": {
          "base_uri": "https://localhost:8080/"
        },
        "id": "cmqHaGLNW_38",
        "outputId": "96a42b3c-cb3e-43e4-e898-905f09386741"
      },
      "execution_count": 17,
      "outputs": [
        {
          "output_type": "stream",
          "name": "stdout",
          "text": [
            "2\n",
            "3\n",
            "4\n",
            "5\n"
          ]
        }
      ]
    },
    {
      "cell_type": "code",
      "source": [],
      "metadata": {
        "id": "Rzo3ppu3XC-O"
      },
      "execution_count": null,
      "outputs": []
    }
  ]
}