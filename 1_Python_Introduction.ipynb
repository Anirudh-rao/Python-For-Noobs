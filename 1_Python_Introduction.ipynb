{
  "nbformat": 4,
  "nbformat_minor": 0,
  "metadata": {
    "colab": {
      "provenance": [],
      "toc_visible": true,
      "authorship_tag": "ABX9TyOLkYGHQ+dxJ3SyFyv8Ck12",
      "include_colab_link": true
    },
    "kernelspec": {
      "name": "python3",
      "display_name": "Python 3"
    },
    "language_info": {
      "name": "python"
    }
  },
  "cells": [
    {
      "cell_type": "markdown",
      "metadata": {
        "id": "view-in-github",
        "colab_type": "text"
      },
      "source": [
        "<a href=\"https://colab.research.google.com/github/Anirudh-rao/Python-For-Noobs/blob/main/1_Python_Introduction.ipynb\" target=\"_parent\"><img src=\"https://colab.research.google.com/assets/colab-badge.svg\" alt=\"Open In Colab\"/></a>"
      ]
    },
    {
      "cell_type": "markdown",
      "source": [
        "**Python Introduction**\n",
        "\n",
        "Python is a high-level, general-purpose and a very popular programming language. Python programming language (latest Python 3) is being used in web development, Machine Learning applications, along with all cutting edge technology in Software Industry. Python Programming Language is very well suited for Beginners, also for experienced programmers with other programming languages like C++ and Java.\n",
        "\n",
        "Below are some facts about Python Programming Language:\n",
        "\n",
        "1. Python is currently the most widely used multi-purpose, high-level programming language.\n",
        "2. Python allows programming in Object-Oriented and Procedural paradigms.\n",
        "Python programs generally are smaller than other programming languages like Java. Programmers have to type relatively less and indentation requirement of the language, makes them readable all the time.\n",
        "3. Python language is being used by almost all tech-giant companies like – Google, Amazon, Facebook, Instagram, Dropbox, Uber… etc.\n",
        "\n",
        "4. The biggest strength of Python is huge collection of standard library which can be used for the following:\n",
        "  1. Machine Learning\n",
        "  2. GUI Applications (like Kivy, Tkinter, PyQt etc. )\n",
        "  3. Web frameworks like Django (used by YouTube, Instagram, Dropbox)\n",
        "  4. Image processing (like OpenCV, Pillow)\n",
        "  5. Web scraping (like Scrapy, BeautifulSoup, Selenium)\n",
        "  6. Test frameworks\n",
        "  7. Multimedia\n",
        "  8. Scientific computing\n",
        "  9. Text processing and many more..\n",
        "\n"
      ],
      "metadata": {
        "id": "Ci6aj2LLwUZO"
      }
    },
    {
      "cell_type": "markdown",
      "source": [
        "# Python -Hello World\n",
        "\n",
        "Python is a Simple language and hence is considered as **best Introduction Language** for Beginers. \n",
        "But Why and How ? You might think Right🤨🤨\n",
        "\n",
        "Lets Start with a `Simple Hello World Program` in Python and compare the same with C++ .\n",
        "\n",
        "1. **Hello World Program In C**\n",
        "\n",
        "```\n",
        "#include <stdio.h>\n",
        "int main() {\n",
        "   // printf() displays the string inside quotation\n",
        "   printf(\"Hello, World!\");\n",
        "   return 0;\n",
        "}\n",
        "```\n",
        "\n",
        "Now lets look at the same in Python\n",
        "\n",
        "\n",
        "`Note`: Use **Ctrl+ enter** to run the below cell\n"
      ],
      "metadata": {
        "id": "JAKyNV2cw8fF"
      }
    },
    {
      "cell_type": "code",
      "source": [
        "#Hello world\n",
        "print(\"Hello World\")"
      ],
      "metadata": {
        "colab": {
          "base_uri": "https://localhost:8080/"
        },
        "id": "qwyAy6eL3Yat",
        "outputId": "65c586d5-54a7-47e4-e98e-ffbc55ede615"
      },
      "execution_count": 1,
      "outputs": [
        {
          "output_type": "stream",
          "name": "stdout",
          "text": [
            "Hello World\n"
          ]
        }
      ]
    },
    {
      "cell_type": "markdown",
      "source": [
        "This is how Simple Python Programming Is and why is it is considered as the **best Introduction Language for Beginers**. "
      ],
      "metadata": {
        "id": "Qs_BXNa946TR"
      }
    },
    {
      "cell_type": "markdown",
      "source": [
        "# Comments in Python\n",
        "\n",
        "Commenting is also one of  the key and Important factors for using Python.\n",
        "\n",
        "1. Single Line Comments : In python We  `#` Sign to inidicate a Single Line comment.\n",
        "\n",
        "2. Multi-Line Comment: Multi Line Comments can be indicated using `''' Multi Line comment ''' `"
      ],
      "metadata": {
        "id": "_I4XEFWE7L0X"
      }
    },
    {
      "cell_type": "markdown",
      "source": [
        "# Basic Rules in Python\n",
        "\n",
        "1. Dynamically Typed  \n",
        "No need to declare anything. An assignment statement binds a name to an object, and the object can be of any type.\n",
        "No type casting is  required when using container objects\n",
        "\n",
        "2. Indentation :- A block is a combination of all these statements. Block can be regarded as the grouping of statements for a specific purpose. Most of the programming languages like C, C++, and Java use braces { } to define a block of code. \n",
        "One of the distinctive features of Python is its use of `indentation` to highlight the blocks of code. Whitespace is used for `indentation` in Python. All statements with the same distance to the right belong to the same block of code. If a block has to be more deeply nested, it is simply indented further to the right. \n",
        "\n",
        "So in Python we dont need to worry about declaring a variable with its specific data types . Python will assign the data type dynamically and\n",
        "Python is  case and Space senstitive.\n",
        "\n",
        "Till now we have seen that how to say hello world in Python\n",
        " Now lets see how take Input and assign it to a `variable`"
      ],
      "metadata": {
        "id": "CzYzHw9c5InQ"
      }
    },
    {
      "cell_type": "markdown",
      "source": [
        "# Input in Python \n",
        "In C programming We take Input using the following program:\n",
        "\n",
        "```\n",
        "#include <stdio.h>\n",
        "int main()\n",
        "{\n",
        "    int testInteger;\n",
        "    printf(\"Enter an integer: \");\n",
        "    scanf(\"%d\", &testInteger);  \n",
        "    printf(\"Number = %d\",testInteger);\n",
        "    return 0;\n",
        "}\n",
        "```\n",
        "as  you can seee this can a bit difficult for a longer program😶‍🌫️.\n",
        "\n",
        "Lets Look at How it is Done in Python."
      ],
      "metadata": {
        "id": "AUo-Z5GJ8RNf"
      }
    },
    {
      "cell_type": "code",
      "source": [
        "#Taking Input in Python\n",
        "d = input(\"Enter your value: \")\n",
        "print(d)"
      ],
      "metadata": {
        "colab": {
          "base_uri": "https://localhost:8080/"
        },
        "id": "tI7QJLp18V87",
        "outputId": "cbc72c4b-0512-4988-ff7d-0c16b9e65389"
      },
      "execution_count": 3,
      "outputs": [
        {
          "output_type": "stream",
          "name": "stdout",
          "text": [
            "Enter your value: 19\n",
            "19\n"
          ]
        }
      ]
    },
    {
      "cell_type": "markdown",
      "source": [
        "See its that Simple. \n",
        "\n",
        "In Python , We use the **Input** Keyword to take Input from user .\n",
        "\n",
        "In this we are taking an `Input` and assiging it to a variable called `val` .\n",
        "Finally we are Printing it using the `print` keyword.\n",
        "\n",
        "\n",
        "lets take More into Inputs"
      ],
      "metadata": {
        "id": "L8DoQJAG9PWa"
      }
    },
    {
      "cell_type": "code",
      "source": [
        "# Program to check input \n",
        "# type in Python\n",
        "  \n",
        "num = input (\"Enter number :\")\n",
        "print(num)\n",
        "name1 = input(\"Enter name : \")\n",
        "print(name1)\n",
        "  \n",
        "# Printing type of input value\n",
        "print (\"type of number\", type(num))\n",
        "print (\"type of name\", type(name1))"
      ],
      "metadata": {
        "colab": {
          "base_uri": "https://localhost:8080/"
        },
        "id": "5Ak3R0gn9rDQ",
        "outputId": "0445a208-67a7-438c-b3c5-27fd843efea2"
      },
      "execution_count": 4,
      "outputs": [
        {
          "output_type": "stream",
          "name": "stdout",
          "text": [
            "Enter number :788\n",
            "788\n",
            "Enter name : tanmay\n",
            "tanmay\n",
            "type of number <class 'str'>\n",
            "type of name <class 'str'>\n"
          ]
        }
      ]
    },
    {
      "cell_type": "markdown",
      "source": [
        "For Taking Multiple Inputs we can use the `split` keyword and Split the Data from the variable into `Two` as shown in the below Program.\n",
        "\n"
      ],
      "metadata": {
        "id": "IeqtuzXt-HaL"
      }
    },
    {
      "cell_type": "code",
      "source": [
        "# Python program showing how to\n",
        "# multiple input using split\n",
        "\n",
        "# taking two inputs at a time\n",
        "x, y = input(\"Enter two values: \").split()\n",
        "print(\"Number of boys: \", x)\n",
        "print(\"Number of girls: \", y)\n",
        "print()\n",
        "\n",
        "# taking three inputs at a time\n",
        "x, y, z = input(\"Enter three values: \").split()\n",
        "print(\"Total number of students: \", x)\n",
        "print(\"Number of boys is : \", y)\n",
        "print(\"Number of girls is : \", z)\n",
        "print()\n",
        "\n",
        "# taking two inputs at a time\n",
        "a, b = input(\"Enter two values: \").split()\n",
        "print(\"First number is {} and second number is {}\".format(a, b))\n",
        "print()\n",
        "\n",
        "# taking multiple inputs at a time\n",
        "# and type casting using list() function\n",
        "x = list(map(int, input(\"Enter multiple values: \").split()))\n",
        "print(\"List of students: \", x)\n"
      ],
      "metadata": {
        "colab": {
          "base_uri": "https://localhost:8080/",
          "height": 381
        },
        "id": "qVIDuX2F-Sbi",
        "outputId": "e58570f6-e0ee-4f7a-f404-c921bd4f651e"
      },
      "execution_count": 6,
      "outputs": [
        {
          "output_type": "error",
          "ename": "KeyboardInterrupt",
          "evalue": "ignored",
          "traceback": [
            "\u001b[0;31m---------------------------------------------------------------------------\u001b[0m",
            "\u001b[0;31mKeyboardInterrupt\u001b[0m                         Traceback (most recent call last)",
            "\u001b[0;32m<ipython-input-6-7fa9bb9c8fff>\u001b[0m in \u001b[0;36m<module>\u001b[0;34m\u001b[0m\n\u001b[1;32m      3\u001b[0m \u001b[0;34m\u001b[0m\u001b[0m\n\u001b[1;32m      4\u001b[0m \u001b[0;31m# taking two inputs at a time\u001b[0m\u001b[0;34m\u001b[0m\u001b[0;34m\u001b[0m\u001b[0;34m\u001b[0m\u001b[0m\n\u001b[0;32m----> 5\u001b[0;31m \u001b[0mx\u001b[0m\u001b[0;34m,\u001b[0m \u001b[0my\u001b[0m \u001b[0;34m=\u001b[0m \u001b[0minput\u001b[0m\u001b[0;34m(\u001b[0m\u001b[0;34m\"Enter two values: \"\u001b[0m\u001b[0;34m)\u001b[0m\u001b[0;34m.\u001b[0m\u001b[0msplit\u001b[0m\u001b[0;34m(\u001b[0m\u001b[0;34m)\u001b[0m\u001b[0;34m\u001b[0m\u001b[0;34m\u001b[0m\u001b[0m\n\u001b[0m\u001b[1;32m      6\u001b[0m \u001b[0mprint\u001b[0m\u001b[0;34m(\u001b[0m\u001b[0;34m\"Number of boys: \"\u001b[0m\u001b[0;34m,\u001b[0m \u001b[0mx\u001b[0m\u001b[0;34m)\u001b[0m\u001b[0;34m\u001b[0m\u001b[0;34m\u001b[0m\u001b[0m\n\u001b[1;32m      7\u001b[0m \u001b[0mprint\u001b[0m\u001b[0;34m(\u001b[0m\u001b[0;34m\"Number of girls: \"\u001b[0m\u001b[0;34m,\u001b[0m \u001b[0my\u001b[0m\u001b[0;34m)\u001b[0m\u001b[0;34m\u001b[0m\u001b[0;34m\u001b[0m\u001b[0m\n",
            "\u001b[0;32m/usr/local/lib/python3.7/dist-packages/ipykernel/kernelbase.py\u001b[0m in \u001b[0;36mraw_input\u001b[0;34m(self, prompt)\u001b[0m\n\u001b[1;32m    861\u001b[0m             \u001b[0mself\u001b[0m\u001b[0;34m.\u001b[0m\u001b[0m_parent_ident\u001b[0m\u001b[0;34m,\u001b[0m\u001b[0;34m\u001b[0m\u001b[0;34m\u001b[0m\u001b[0m\n\u001b[1;32m    862\u001b[0m             \u001b[0mself\u001b[0m\u001b[0;34m.\u001b[0m\u001b[0m_parent_header\u001b[0m\u001b[0;34m,\u001b[0m\u001b[0;34m\u001b[0m\u001b[0;34m\u001b[0m\u001b[0m\n\u001b[0;32m--> 863\u001b[0;31m             \u001b[0mpassword\u001b[0m\u001b[0;34m=\u001b[0m\u001b[0;32mFalse\u001b[0m\u001b[0;34m,\u001b[0m\u001b[0;34m\u001b[0m\u001b[0;34m\u001b[0m\u001b[0m\n\u001b[0m\u001b[1;32m    864\u001b[0m         )\n\u001b[1;32m    865\u001b[0m \u001b[0;34m\u001b[0m\u001b[0m\n",
            "\u001b[0;32m/usr/local/lib/python3.7/dist-packages/ipykernel/kernelbase.py\u001b[0m in \u001b[0;36m_input_request\u001b[0;34m(self, prompt, ident, parent, password)\u001b[0m\n\u001b[1;32m    902\u001b[0m             \u001b[0;32mexcept\u001b[0m \u001b[0mKeyboardInterrupt\u001b[0m\u001b[0;34m:\u001b[0m\u001b[0;34m\u001b[0m\u001b[0;34m\u001b[0m\u001b[0m\n\u001b[1;32m    903\u001b[0m                 \u001b[0;31m# re-raise KeyboardInterrupt, to truncate traceback\u001b[0m\u001b[0;34m\u001b[0m\u001b[0;34m\u001b[0m\u001b[0;34m\u001b[0m\u001b[0m\n\u001b[0;32m--> 904\u001b[0;31m                 \u001b[0;32mraise\u001b[0m \u001b[0mKeyboardInterrupt\u001b[0m\u001b[0;34m(\u001b[0m\u001b[0;34m\"Interrupted by user\"\u001b[0m\u001b[0;34m)\u001b[0m \u001b[0;32mfrom\u001b[0m \u001b[0;32mNone\u001b[0m\u001b[0;34m\u001b[0m\u001b[0;34m\u001b[0m\u001b[0m\n\u001b[0m\u001b[1;32m    905\u001b[0m             \u001b[0;32mexcept\u001b[0m \u001b[0mException\u001b[0m \u001b[0;32mas\u001b[0m \u001b[0me\u001b[0m\u001b[0;34m:\u001b[0m\u001b[0;34m\u001b[0m\u001b[0;34m\u001b[0m\u001b[0m\n\u001b[1;32m    906\u001b[0m                 \u001b[0mself\u001b[0m\u001b[0;34m.\u001b[0m\u001b[0mlog\u001b[0m\u001b[0;34m.\u001b[0m\u001b[0mwarning\u001b[0m\u001b[0;34m(\u001b[0m\u001b[0;34m\"Invalid Message:\"\u001b[0m\u001b[0;34m,\u001b[0m \u001b[0mexc_info\u001b[0m\u001b[0;34m=\u001b[0m\u001b[0;32mTrue\u001b[0m\u001b[0;34m)\u001b[0m\u001b[0;34m\u001b[0m\u001b[0;34m\u001b[0m\u001b[0m\n",
            "\u001b[0;31mKeyboardInterrupt\u001b[0m: Interrupted by user"
          ]
        }
      ]
    },
    {
      "cell_type": "code",
      "source": [],
      "metadata": {
        "id": "J5YSrSsu-Uei"
      },
      "execution_count": null,
      "outputs": []
    }
  ]
}